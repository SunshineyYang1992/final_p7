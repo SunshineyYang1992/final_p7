{
 "cells": [
  {
   "cell_type": "markdown",
   "metadata": {},
   "source": [
    "# 优达学城数据分析师纳米学位项目 P5\n",
    "\n",
    "## 安然提交开放式问题\n",
    "\n",
    "\n",
    "机器学习的一个重要部分就是明确你的分析过程，并有效地传达给他人。下面的问题将帮助我们理解你的决策过程及为你的项目提供反馈。请回答每个问题；每个问题的答案长度应为大概 1 到 2 段文字。如果你发现自己的答案过长，请看看是否可加以精简！\n",
    "\n",
    "当评估员审查你的回答时，他或她将使用特定标准项清单来评估你的答案。下面是该标准的链接：评估准则。每个问题有一或多个关联的特定标准项，因此在提交答案前，请先查阅标准的相应部分。如果你的回答未满足所有标准点的期望，你将需要修改和重新提交项目。确保你的回答有足够的详细信息，使评估员能够理解你在进行数据分析时采取的每个步骤和思考过程。\n",
    "\n",
    "提交回答后，你的导师将查看并对你的一个或多个答案提出几个更有针对性的后续问题。\n",
    "\n",
    "我们期待看到你的项目成果！"
   ]
  },
  {
   "cell_type": "markdown",
   "metadata": {},
   "source": [
    "### Q1: 向我们总结此项目的目标以及机器学习对于实现此目标有何帮助。作为答案的部分，提供一些数据集背景信息以及这些信息如何用于回答项目问题。你在获得数据时它们是否包含任何异常值，你是如何进行处理的？【相关标准项：“数据探索”，“异常值调查”】"
   ]
  },
  {
   "cell_type": "code",
   "execution_count": 1,
   "metadata": {},
   "outputs": [
    {
     "name": "stdout",
     "output_type": "stream",
     "text": [
      "<class 'pandas.core.frame.DataFrame'>\n",
      "Index: 146 entries, ALLEN PHILLIP K to YEAP SOON\n",
      "Data columns (total 21 columns):\n",
      "salary                       95 non-null float64\n",
      "to_messages                  86 non-null float64\n",
      "deferral_payments            39 non-null float64\n",
      "total_payments               125 non-null float64\n",
      "exercised_stock_options      102 non-null float64\n",
      "bonus                        82 non-null float64\n",
      "restricted_stock             110 non-null float64\n",
      "shared_receipt_with_poi      86 non-null float64\n",
      "restricted_stock_deferred    18 non-null float64\n",
      "total_stock_value            126 non-null float64\n",
      "expenses                     95 non-null float64\n",
      "loan_advances                4 non-null float64\n",
      "from_messages                86 non-null float64\n",
      "other                        93 non-null float64\n",
      "from_this_person_to_poi      86 non-null float64\n",
      "poi                          146 non-null int64\n",
      "director_fees                17 non-null float64\n",
      "deferred_income              49 non-null float64\n",
      "long_term_incentive          66 non-null float64\n",
      "email_address                111 non-null object\n",
      "from_poi_to_this_person      86 non-null float64\n",
      "dtypes: float64(19), int64(1), object(1)\n",
      "memory usage: 25.1+ KB\n"
     ]
    },
    {
     "name": "stderr",
     "output_type": "stream",
     "text": [
      "/anaconda/envs/Python27/lib/python2.7/site-packages/sklearn/cross_validation.py:41: DeprecationWarning: This module was deprecated in version 0.18 in favor of the model_selection module into which all the refactored classes and functions are moved. Also note that the interface of the new CV iterators are different from that of this module. This module will be removed in 0.20.\n",
      "  \"This module will be removed in 0.20.\", DeprecationWarning)\n"
     ]
    }
   ],
   "source": [
    "import sys\n",
    "import cPickle as pickle\n",
    "import numpy as np\n",
    "import pandas as pd\n",
    "import matplotlib.pyplot as plt\n",
    "import seaborn as sns\n",
    "%config InlineBackend.figure_format='retina'\n",
    "\n",
    "from sklearn.cross_validation import train_test_split\n",
    "from sklearn.pipeline import Pipeline\n",
    "from sklearn.model_selection import GridSearchCV, StratifiedShuffleSplit, cross_val_score\n",
    "from sklearn.preprocessing import StandardScaler\n",
    "from sklearn.decomposition import PCA\n",
    "from sklearn.feature_selection import SelectKBest\n",
    "from sklearn.naive_bayes import GaussianNB\n",
    "from sklearn.svm import SVC\n",
    "from sklearn.tree import DecisionTreeClassifier\n",
    "from sklearn.metrics import accuracy_score, precision_score, recall_score, f1_score\n",
    "\n",
    "sys.path.append(\"../tools/\")\n",
    "\n",
    "from feature_format import featureFormat, targetFeatureSplit\n",
    "from tester import dump_classifier_and_data, test_classifier\n",
    "\n",
    "%matplotlib inline\n",
    "pd.set_option('display.max_columns', None)\n",
    "\n",
    "### Load the dictionary containing the dataset\n",
    "with open(\"final_project_dataset.pkl\", \"r\") as data_file:\n",
    "    data_dict = pickle.load(data_file)\n",
    "\n",
    "# dict to dataframe\n",
    "df = pd.DataFrame.from_dict(data_dict, orient='index')\n",
    "df.replace('NaN', np.nan, inplace = True)\n",
    "\n",
    "df.info()"
   ]
  },
  {
   "cell_type": "markdown",
   "metadata": {},
   "source": [
    "#### Q1.1 数据探索\n",
    "\n",
    "该项目的目标是利用机器学习在安然企业欺诈案件中识别嫌疑犯（POI）。数据集包含146个数据点（即“人”）且每个数据点有21个特征。这些特征包括财务功能（例如工资，奖金和股票期权）和邮件特征（例如发送邮件的数量，发送给POI的邮件数以及收到邮件的数量）。数据集中的146个人中，有18个POI。由于数据集的复杂性，使用机器学习来检测POI是很有帮助的。通过这种方式，我们可以创建一个模型，然后可以帮助我们识别来自*新数据的POI - 如果新的人员通过模型发送了相关数据，该模型可以确定该新人员是否可能是POI。"
   ]
  },
  {
   "cell_type": "markdown",
   "metadata": {},
   "source": [
    "####  Q1.2 异常值调查"
   ]
  },
  {
   "cell_type": "code",
   "execution_count": 2,
   "metadata": {},
   "outputs": [
    {
     "data": {
      "text/plain": [
       "<matplotlib.axes._subplots.AxesSubplot at 0x117ffcd10>"
      ]
     },
     "execution_count": 2,
     "metadata": {},
     "output_type": "execute_result"
    },
    {
     "data": {
      "image/png": "[encoded data removed]",
      "text/plain": [
       "<matplotlib.figure.Figure at 0x10e7505d0>"
      ]
     },
     "metadata": {
      "image/png": {
       "height": 272,
       "width": 387
      }
     },
     "output_type": "display_data"
    }
   ],
   "source": [
    "df.plot.scatter(x = 'salary', y = 'bonus')"
   ]
  },
  {
   "cell_type": "markdown",
   "metadata": {},
   "source": [
    "上图，一个员工的薪水过大"
   ]
  },
  {
   "cell_type": "code",
   "execution_count": 3,
   "metadata": {},
   "outputs": [
    {
     "data": {
      "text/plain": [
       "'TOTAL'"
      ]
     },
     "execution_count": 3,
     "metadata": {},
     "output_type": "execute_result"
    }
   ],
   "source": [
    "df['salary'].idxmax()"
   ]
  },
  {
   "cell_type": "code",
   "execution_count": 4,
   "metadata": {},
   "outputs": [
    {
     "data": {
      "text/plain": [
       "<matplotlib.axes._subplots.AxesSubplot at 0x10e750410>"
      ]
     },
     "execution_count": 4,
     "metadata": {},
     "output_type": "execute_result"
    },
    {
     "data": {
      "image/png": "[encoded data removed]",
      "text/plain": [
       "<matplotlib.figure.Figure at 0x117ffc650>"
      ]
     },
     "metadata": {
      "image/png": {
       "height": 263,
       "width": 416
      }
     },
     "output_type": "display_data"
    }
   ],
   "source": [
    "df.drop('TOTAL', inplace = True)\n",
    "df.plot.scatter(x = 'salary', y = 'bonus')"
   ]
  },
  {
   "cell_type": "markdown",
   "metadata": {},
   "source": [
    "我删除了“TOTAL”这一行，因为这是其他145个员工薪水的总和。我还删除了Eugene Lockhart，因为经过调查发现他的每一个特征都是“NaN”或0，所以他的信息完全没用。我还考虑从数据中删除Kenneth Lay和Jeffrey Skilling，因为与其他数据相比，他们的金融特征尤其高，然而我决定在数据中留下他们的记录，因为它们是安然故事中的重要组成部分 - 如果不能确定这俩个人的嫌疑，那么安然的故事就会完全改变！"
   ]
  },
  {
   "cell_type": "markdown",
   "metadata": {},
   "source": [
    "### Q2: 你最终在你的 POI 标识符中使用了什么特征，你使用了什么筛选过程来挑选它们？你是否需要进行任何缩放？为什么？作为任务的一部分，你应该尝试设计自己的特征，而非使用数据集中现成的——解释你尝试创建的特征及其基本原理。（你不一定要在最后的分析中使用它，而只设计并测试它）。在你的特征选择步骤，如果你使用了算法（如决策树），请也给出所使用特征的特征重要性；如果你使用了自动特征选择函数（如 SelectBest），请报告特征得分及你所选的参数值的原因。【相关标准项：“创建新特征”、“适当缩放特征”、“智能选择功能”】"
   ]
  },
  {
   "cell_type": "markdown",
   "metadata": {},
   "source": [
    "#### Q2.1 创建新特征\n",
    "\n",
    "我使用现有的特征创建了2个新的特征。我创建了fraction_to_poi和fraction_from_poi特征，通过其检查某人发出/收到的邮件是否与POI占有一定的百分比，即他们表示员工是否与POI邮件来往的占比：\n",
    "\n",
    " * fraction_to_poi\n",
    " * fraction_from_poi\n",
    "\n",
    "如下是POI分组的散点图："
   ]
  },
  {
   "cell_type": "code",
   "execution_count": 5,
   "metadata": {},
   "outputs": [
    {
     "data": {
      "text/plain": [
       "<matplotlib.axes._subplots.AxesSubplot at 0x118093950>"
      ]
     },
     "execution_count": 5,
     "metadata": {},
     "output_type": "execute_result"
    },
    {
     "data": {
      "image/png": "[encoded data removed]",
      "text/plain": [
       "<matplotlib.figure.Figure at 0x11b857d10>"
      ]
     },
     "metadata": {
      "image/png": {
       "height": 264,
       "width": 387
      }
     },
     "output_type": "display_data"
    }
   ],
   "source": [
    "df['fraction_from_poi'] = df['from_poi_to_this_person'] / df['to_messages']\n",
    "df['fraction_to_poi'] = df['from_this_person_to_poi'] / df['from_messages']\n",
    "\n",
    "ax = df[df['poi'] == False].plot.scatter(x='fraction_from_poi', y='fraction_to_poi', color='blue', label='non-poi')\n",
    "df[df['poi'] == True].plot.scatter(x='fraction_from_poi', y='fraction_to_poi', color='red', label='poi', ax=ax)"
   ]
  },
  {
   "cell_type": "markdown",
   "metadata": {},
   "source": [
    "对比最终模型是否包括新创建的特征得分，得到以下结果：\n",
    "\n",
    "新特征        | Accuracy | Precision | Recall | F1\n",
    "------------ | -------- | --------- | ------ | -----\n",
    "yes          | 0.879    | 0.543     | 0.325  | 0.380\n",
    "no           | 0.879    | 0.543     | 0.325  | 0.380\n",
    "\n",
    "很惊奇的发现，结果两者一致"
   ]
  },
  {
   "cell_type": "markdown",
   "metadata": {},
   "source": [
    "#### Q2.2 适当缩放特征\n",
    "\n",
    "由于将在稍后进行主成分分析（PCA）以降低特征维度，并且许多机器学习模型要求提供缩放特征，有些算法受特征缩放的影响，比如SVM，K-means算法, 而决策树和线性回归不受特征缩放的影响。\n",
    "\n",
    "* SVM算法，计算距离时，是在一个维度和另一个维度间做权衡。因为SVM是要找一个分割面把点分开，涉及到两个维度的交互\n",
    "* K-means算法，是计算每个点到集群中心的距离，如果你将一个变量扩大一倍，它的数值也会扩大一倍\n",
    "* 决策树的分割是一系列的水平线和垂直线，不存在两者的交换。在考虑一个维度时，不需要考虑另一个维度的值。如果把一个维度进行缩放，分割的位置会变化，但顺序不会变\n",
    "* 线性回归的每个特征有一个相应的系数，系数和特征总是一起出现。特征A的变化不会影响到特征B的系数。\n",
    "\n",
    "一些算法，我们可以通过特征缩放改变结果，一些算法则不受影响。所以将对这些特征的标准化进行测试，作为分类流程的第一步。 如果它提高了模型的评估分数，那么所选择的最终模型将具有这个特征缩放这一步骤。\n",
    "通过使用scikit learn的StandardScaler module，消除平均值和缩放到单位方差来标准化特征。"
   ]
  },
  {
   "cell_type": "markdown",
   "metadata": {},
   "source": [
    "#### Q2.3 特征选择\n",
    "\n",
    "下一步是选择能够将最多信息传达给机器学习模型的特征。舍弃一些特征有一些优势如降低分类中的噪音，节省处理时间。特征选择所选择的算法是使用SelectKBest，f_classif作为评分函数，f_classif函数计算分类任务的标签和特征之间的ANOVA F值。\n",
    "\n",
    "使用grid search（后续会说明）测试了一些特征，最后，选择了15个最重要的特征：\n",
    "\n",
    "feature                 | score\n",
    "----------------------- | ------------\n",
    "exercised_stock_options | 22.84690056\n",
    "total_stock_value       | 22.33456614\n",
    "salary                  | 16.96091624\n",
    "bonus                   | 15.49141455\n",
    "fraction_to_poi         | 13.80595013\n",
    "restricted_stock        | 8.61001147\n",
    "total_payments          | 8.50623857\n",
    "loan_advances           | 7.3499902\n",
    "shared_receipt_with_poi | 7.06339857\n",
    "deferred_income         | 6.19466529\n",
    "long_term_incentive     | 5.66331492\n",
    "expenses                | 5.28384553\n",
    "from_poi_to_this_person | 5.05036916\n",
    "other                   | 4.42180729\n",
    "fraction_from_poi       | 3.57449894 \n",
    "\n",
    "特征选择的输出被用作PCA的输入，这些特征被投影到一个较低维空间，致使最终选择的模型中将维度从15个特征减少到6个主要组成部分。\n"
   ]
  },
  {
   "cell_type": "markdown",
   "metadata": {},
   "source": [
    "### Q3: 你最终使用了什么算法？你还尝试了其他什么算法？不同算法之间的模型性能有何差异？【相关标准项：“选择算法”】"
   ]
  },
  {
   "cell_type": "markdown",
   "metadata": {},
   "source": [
    "最终使用了高斯朴素贝叶斯，它嵌套cross-validation f1得分为0.366984126984, 还尝试了如下算法：\n",
    "\n",
    "- Gaussian Naive-Bayes;\n",
    "- Support Vector Machines;\n",
    "- Decision Tree Classifier.\n",
    "\n",
    "得分如下：\n",
    "\n",
    "Algorithm                | Nested CV f1\n",
    "------------------------ | ------------\n",
    "Gaussian Naive-Bayes     | 0.366984126984\n",
    "Support Vector Machines  | 0.287132034632\n",
    "Decision Tree Classifier | 0.217582417582\n",
    "\n",
    "尽管其他的测试模型在additional评估指标上得分较高，但是嵌套交叉验证的分数能够最好的藐视模型如何标准化未知数据，因此最终选择高斯朴素贝叶斯模型\n"
   ]
  },
  {
   "cell_type": "markdown",
   "metadata": {},
   "source": [
    "### Q4: 调整算法的参数是什么意思，如果你不这样做会发生什么？你是如何调整特定算法的参数的？（一些算法没有需要调整的参数 – 如果你选择的算法是这种情况，指明并简要解释对于你最终未选择的模型或需要参数调整的不同模型，例如决策树分类器，你会怎么做）。【相关标准项：“调整算法”】"
   ]
  },
  {
   "cell_type": "markdown",
   "metadata": {},
   "source": [
    "选择机器学习算法的关键部分是调整其参数得到最大化评估指标。 如果未调整合适的参数，则该算法可能会导致数据不合适或过度拟合，从而影响结果。为了调整算法参数，我使用了scikit learn中提供的GridSearchCV工具，该工具能详尽地在一系列可能的参数中搜索最佳参数，从而优化选定的评分函数，即在本项目中，f1（评估指标将在后续问题中详细探讨）"
   ]
  },
  {
   "cell_type": "markdown",
   "metadata": {},
   "source": [
    "### Q5: 什么是验证，未正确执行情况下的典型错误是什么？你是如何验证你的分析的？【相关标准项：“验证策略”】"
   ]
  },
  {
   "cell_type": "markdown",
   "metadata": {},
   "source": [
    "机器学习中的验证包括使用训练过程中未使用的数据评估模型。一个典型的错误是忽略这个规则，由于过度拟合训练数据而获得过分乐观的结果，但在未使用的数据上表现很差。\n",
    "\n",
    "通常机器学着汇总，会将数据分为三部分：训练集、测试集和交叉验证。适当调整模型是为了在交叉验证集合上获得最大化评估分数，然后在测试集上测量最终模型的表现。\n",
    "\n",
    "由于缺乏足够的observation来训练和测试算法，为了从数据中提取大部分信息，所选择的用于验证我们模型的策略是Nested Stratified Shuffle Split Cross-Validation.\n",
    "\n",
    "在这个策略中有效地使用了一系列的训练/验证/测试集分割。在内部循环中，通过将模型拟合到每个训练集，得分近似最大化，然后在选择验证集上的（超）参数时直接最大化。在外环中，泛化误差通过对几个数据集拆分中的测试集分数进行平均来估计。所有集合都是随机选取的，但保持相同比例的类别标签。\n"
   ]
  },
  {
   "cell_type": "markdown",
   "metadata": {},
   "source": [
    "### Q6: 给出至少 2 个评估度量并说明每个的平均性能。解释对用简单的语言表明算法性能的度量的解读。【相关标准项：“评估度量的使用”】"
   ]
  },
  {
   "cell_type": "code",
   "execution_count": 6,
   "metadata": {
    "collapsed": true
   },
   "outputs": [],
   "source": [
    "### The first feature must be \"poi\".\n",
    "features_list = ['poi', 'salary', 'bonus', 'long_term_incentive', 'deferred_income', 'deferral_payments',\n",
    "                 'loan_advances', 'other', 'expenses', 'director_fees', 'total_payments', \n",
    "                 'exercised_stock_options', 'restricted_stock', 'restricted_stock_deferred', \n",
    "                 'total_stock_value', 'to_messages', 'from_messages', 'from_this_person_to_poi', \n",
    "                 'from_poi_to_this_person', 'shared_receipt_with_poi', 'fraction_from_poi', 'fraction_to_poi']\n",
    "\n",
    "### Load the dictionary containing the dataset\n",
    "filled_df = df.fillna(value='NaN') # featureFormat expects 'NaN' strings\n",
    "data_dict = filled_df.to_dict(orient='index')\n",
    "\n",
    "### Store to my_dataset for easy export below.\n",
    "my_dataset = data_dict\n",
    "\n",
    "### Extract features and labels from dataset for local testing\n",
    "data = featureFormat(my_dataset, features_list, sort_keys = True)\n",
    "y, X = targetFeatureSplit(data)\n",
    "X = np.array(X)\n",
    "y = np.array(y)\n",
    "\n",
    "### Cross-validation\n",
    "sss = StratifiedShuffleSplit(n_splits=10, test_size=0.2, random_state=42)\n",
    "\n",
    "SCALER = [None, StandardScaler()]\n",
    "SELECTOR__K = [10, 13, 15, 18, 'all']\n",
    "REDUCER__N_COMPONENTS = [2, 4, 6, 8, 10]"
   ]
  },
  {
   "cell_type": "code",
   "execution_count": 7,
   "metadata": {
    "collapsed": true
   },
   "outputs": [],
   "source": [
    "def evaluate_model(grid, X, y, cv):\n",
    "    nested_score = cross_val_score(grid, X=X, y=y, cv=cv, n_jobs=-1)\n",
    "    print \"Nested f1 score: {}\".format(nested_score.mean())\n",
    "\n",
    "    grid.fit(X, y)    \n",
    "    print \"Best parameters: {}\".format(grid.best_params_)\n",
    "\n",
    "    cv_accuracy = []\n",
    "    cv_precision = []\n",
    "    cv_recall = []\n",
    "    cv_f1 = []\n",
    "    for train_index, test_index in cv.split(X, y):\n",
    "        X_train, X_test = X[train_index], X[test_index]\n",
    "        y_train, y_test = y[train_index], y[test_index]\n",
    "        \n",
    "        grid.best_estimator_.fit(X_train, y_train)\n",
    "        pred = grid.best_estimator_.predict(X_test)\n",
    "        \n",
    "        cv_accuracy.append(accuracy_score(y_test, pred))\n",
    "        cv_precision.append(precision_score(y_test, pred))\n",
    "        cv_recall.append(recall_score(y_test, pred))\n",
    "        cv_f1.append(f1_score(y_test, pred))\n",
    "        \n",
    "    print \"Mean Accuracy: {}\".format(np.mean(cv_accuracy))\n",
    "    print \"Mean Precision: {}\".format(np.mean(cv_precision))\n",
    "    print \"Mean Recall: {}\".format(np.mean(cv_recall))\n",
    "    print \"Mean f1: {}\".format(np.mean(cv_f1))"
   ]
  },
  {
   "cell_type": "markdown",
   "metadata": {},
   "source": [
    "#### Q6.1 Gaussian Naive-Bayes"
   ]
  },
  {
   "cell_type": "code",
   "execution_count": 8,
   "metadata": {},
   "outputs": [
    {
     "name": "stderr",
     "output_type": "stream",
     "text": [
      "/anaconda/envs/Python27/lib/python2.7/site-packages/sklearn/metrics/classification.py:1135: UndefinedMetricWarning: F-score is ill-defined and being set to 0.0 due to no predicted samples.\n",
      "  'precision', 'predicted', average, warn_for)\n",
      "/anaconda/envs/Python27/lib/python2.7/site-packages/sklearn/metrics/classification.py:1135: UndefinedMetricWarning: F-score is ill-defined and being set to 0.0 due to no predicted samples.\n",
      "  'precision', 'predicted', average, warn_for)\n",
      "/anaconda/envs/Python27/lib/python2.7/site-packages/sklearn/metrics/classification.py:1135: UndefinedMetricWarning: F-score is ill-defined and being set to 0.0 due to no predicted samples.\n",
      "  'precision', 'predicted', average, warn_for)\n",
      "/anaconda/envs/Python27/lib/python2.7/site-packages/sklearn/metrics/classification.py:1135: UndefinedMetricWarning: F-score is ill-defined and being set to 0.0 due to no predicted samples.\n",
      "  'precision', 'predicted', average, warn_for)\n",
      "/anaconda/envs/Python27/lib/python2.7/site-packages/sklearn/feature_selection/univariate_selection.py:113: UserWarning: Features [5] are constant.\n",
      "  UserWarning)\n",
      "/anaconda/envs/Python27/lib/python2.7/site-packages/sklearn/feature_selection/univariate_selection.py:114: RuntimeWarning: invalid value encountered in divide\n",
      "  f = msb / msw\n",
      "/anaconda/envs/Python27/lib/python2.7/site-packages/sklearn/feature_selection/univariate_selection.py:113: UserWarning: Features [5] are constant.\n",
      "  UserWarning)\n",
      "/anaconda/envs/Python27/lib/python2.7/site-packages/sklearn/feature_selection/univariate_selection.py:114: RuntimeWarning: invalid value encountered in divide\n",
      "  f = msb / msw\n"
     ]
    },
    {
     "name": "stdout",
     "output_type": "stream",
     "text": [
      "Nested f1 score: 0.366984126984\n"
     ]
    },
    {
     "name": "stderr",
     "output_type": "stream",
     "text": [
      "/anaconda/envs/Python27/lib/python2.7/site-packages/sklearn/metrics/classification.py:1135: UndefinedMetricWarning: F-score is ill-defined and being set to 0.0 due to no predicted samples.\n",
      "  'precision', 'predicted', average, warn_for)\n"
     ]
    },
    {
     "name": "stdout",
     "output_type": "stream",
     "text": [
      "Best parameters: {'reducer__n_components': 6, 'selector__k': 15, 'scaler': None}\n",
      "Mean Accuracy: 0.879310344828\n",
      "Mean Precision: 0.543333333333\n",
      "Mean Recall: 0.325\n",
      "Mean f1: 0.38\n"
     ]
    },
    {
     "name": "stderr",
     "output_type": "stream",
     "text": [
      "/anaconda/envs/Python27/lib/python2.7/site-packages/sklearn/metrics/classification.py:1135: UndefinedMetricWarning: Precision is ill-defined and being set to 0.0 due to no predicted samples.\n",
      "  'precision', 'predicted', average, warn_for)\n",
      "/anaconda/envs/Python27/lib/python2.7/site-packages/sklearn/feature_selection/univariate_selection.py:113: UserWarning: Features [5] are constant.\n",
      "  UserWarning)\n",
      "/anaconda/envs/Python27/lib/python2.7/site-packages/sklearn/feature_selection/univariate_selection.py:114: RuntimeWarning: invalid value encountered in divide\n",
      "  f = msb / msw\n"
     ]
    },
    {
     "name": "stdout",
     "output_type": "stream",
     "text": [
      "Pipeline(memory=None,\n",
      "     steps=[('scaler', None), ('selector', SelectKBest(k=15, score_func=<function f_classif at 0x117cdf938>)), ('reducer', PCA(copy=True, iterated_power='auto', n_components=6, random_state=42,\n",
      "  svd_solver='auto', tol=0.0, whiten=False)), ('classifier', GaussianNB(priors=None))])\n",
      "\tAccuracy: 0.85733\tPrecision: 0.44868\tRecall: 0.30600\tF1: 0.36385\tF2: 0.32678\n",
      "\tTotal predictions: 15000\tTrue positives:  612\tFalse positives:  752\tFalse negatives: 1388\tTrue negatives: 12248\n",
      "\n"
     ]
    }
   ],
   "source": [
    "\n",
    "pipe = Pipeline([\n",
    "        ('scaler', StandardScaler()),\n",
    "        ('selector', SelectKBest()),\n",
    "        ('reducer', PCA(random_state=42)),\n",
    "        ('classifier', GaussianNB())\n",
    "    ])\n",
    "\n",
    "param_grid = {\n",
    "    'scaler': SCALER,\n",
    "    'selector__k': SELECTOR__K,\n",
    "    'reducer__n_components': REDUCER__N_COMPONENTS\n",
    "}\n",
    "\n",
    "gnb_grid = GridSearchCV(pipe, param_grid, scoring='f1', cv=sss)\n",
    "\n",
    "evaluate_model(gnb_grid, X, y, sss)\n",
    "\n",
    "test_classifier(gnb_grid.best_estimator_, my_dataset, features_list)"
   ]
  },
  {
   "cell_type": "code",
   "execution_count": 9,
   "metadata": {},
   "outputs": [
    {
     "data": {
      "image/png": "[encoded data removed]",
      "text/plain": [
       "<matplotlib.figure.Figure at 0x11bb0a510>"
      ]
     },
     "metadata": {
      "image/png": {
       "height": 263,
       "width": 480
      }
     },
     "output_type": "display_data"
    }
   ],
   "source": [
    "kbest = gnb_grid.best_estimator_.named_steps['selector']\n",
    "\n",
    "features_array = np.array(features_list)\n",
    "features_array = np.delete(features_array, 0)\n",
    "indices = np.argsort(kbest.scores_)[::-1]\n",
    "k_features = kbest.get_support().sum()\n",
    "\n",
    "features = []\n",
    "for i in range(k_features):\n",
    "    features.append(features_array[indices[i]])\n",
    "\n",
    "features = features[::-1]\n",
    "scores = kbest.scores_[indices[range(k_features)]][::-1]\n",
    "\n",
    "plt.barh(range(k_features), scores)\n",
    "plt.yticks(np.arange(0.4, k_features), features)\n",
    "plt.title('SelectKBest Feature Importances')\n",
    "plt.show()"
   ]
  },
  {
   "cell_type": "code",
   "execution_count": 10,
   "metadata": {},
   "outputs": [
    {
     "name": "stdout",
     "output_type": "stream",
     "text": [
      "Nested f1 score: 0.345079365079\n",
      "Best parameters: {'reducer__n_components': 6, 'selector__k': 13, 'scaler': None}\n",
      "Mean Accuracy: 0.879310344828\n",
      "Mean Precision: 0.543333333333\n",
      "Mean Recall: 0.325\n",
      "Mean f1: 0.38\n"
     ]
    }
   ],
   "source": [
    "# Without the engineered features\n",
    "# removing the 2 last columns\n",
    "X_2 = np.delete(X, -1, 1)\n",
    "X_2 = np.delete(X_2, -1, 1)\n",
    "\n",
    "evaluate_model(gnb_grid, X_2, y, sss)"
   ]
  },
  {
   "cell_type": "markdown",
   "metadata": {},
   "source": [
    "#### Q6.2 Support Vector Machine Classifier"
   ]
  },
  {
   "cell_type": "code",
   "execution_count": null,
   "metadata": {
    "collapsed": true
   },
   "outputs": [],
   "source": [
    "C_PARAM = np.logspace(-2, 3, 6)\n",
    "GAMMA_PARAM = np.logspace(-4, 1, 6)\n",
    "CLASS_WEIGHT = ['balanced', None]\n",
    "KERNEL = ['rbf', 'sigmoid']\n",
    "\n",
    "pipe = Pipeline([\n",
    "        ('scaler', StandardScaler()),\n",
    "        ('selector', SelectKBest()),\n",
    "        ('reducer', PCA(random_state=42)),\n",
    "        ('classifier', SVC())\n",
    "    ])\n",
    "\n",
    "param_grid = {\n",
    "    'scaler': SCALER,\n",
    "    'selector__k': SELECTOR__K,\n",
    "    'reducer__n_components': REDUCER__N_COMPONENTS,\n",
    "    'classifier__C': C_PARAM,\n",
    "    'classifier__gamma': GAMMA_PARAM,\n",
    "    'classifier__class_weight': CLASS_WEIGHT,\n",
    "    'classifier__kernel': KERNEL\n",
    "}\n",
    "\n",
    "svc_grid = GridSearchCV(pipe, param_grid, scoring='f1', cv=sss)\n",
    "\n",
    "evaluate_model(svc_grid, X, y, sss)\n",
    "\n",
    "test_classifier(svc_grid.best_estimator_, my_dataset, features_list)"
   ]
  },
  {
   "cell_type": "markdown",
   "metadata": {},
   "source": [
    "#### Q6.3 Decision Tree Classifier"
   ]
  },
  {
   "cell_type": "code",
   "execution_count": null,
   "metadata": {
    "collapsed": true
   },
   "outputs": [],
   "source": [
    "CRITERION = ['gini', 'entropy']\n",
    "SPLITTER = ['best', 'random']\n",
    "MIN_SAMPLES_SPLIT = [2, 4, 6, 8]\n",
    "CLASS_WEIGHT = ['balanced', None]\n",
    "\n",
    "\n",
    "pipe = Pipeline([\n",
    "        ('scaler', StandardScaler()),\n",
    "        ('selector', SelectKBest()),\n",
    "        ('reducer', PCA(random_state=42)),\n",
    "        ('classifier', DecisionTreeClassifier())\n",
    "    ])\n",
    "\n",
    "param_grid = {\n",
    "    'scaler': SCALER,\n",
    "    'selector__k': SELECTOR__K,\n",
    "    'reducer__n_components': REDUCER__N_COMPONENTS,\n",
    "    'classifier__criterion': CRITERION,\n",
    "    'classifier__splitter': SPLITTER,\n",
    "    'classifier__min_samples_split': MIN_SAMPLES_SPLIT,\n",
    "    'classifier__class_weight': CLASS_WEIGHT,\n",
    "}\n",
    "\n",
    "tree_grid = GridSearchCV(pipe, param_grid, scoring='f1', cv=sss)\n",
    "\n",
    "evaluate_model(tree_grid, X, y, sss)\n",
    "\n",
    "test_classifier(tree_grid.best_estimator_, my_dataset, features_list)"
   ]
  },
  {
   "cell_type": "markdown",
   "metadata": {},
   "source": [
    "对于分类算法，一些最常见的评估指标是accuracy, precision, recall and the f1 score.\n",
    "\n",
    "\n",
    "- 准确度显示了正确分类与预测标签总数之间的比值。 但是由于POI与非POI分布非常不均匀，所以准确性高并不能说明什么，模型预测结果中非POI总能获得87.6％的准确性，这对于不适当的分类器来说也是一个很高的分数。\n",
    "\n",
    "- 精确度是对一个给定预测标签，正确分类的与总观察值的比值。 例如，真正POI与所有预测POI上的比值\n",
    "\n",
    "\n",
    "- 召回率是对一个给定的分类，正确分类的与总观察值的比值。 例如，观察值正确标签为POI与真正POI比值\n",
    "\n",
    "- F1 is a way of balance precision and recall, 如下公式：\n",
    "\n",
    "$$F1 = 2 * (precision * recall) / (precision + recall)$$\n",
    "\n",
    "最终选定的模型，各项评估指标得分如下：\n",
    "\n",
    "Model      | Accuracy       | Precision      | Recall | F1\n",
    "---------- | -------------- | -------------- | ------ | ----\n",
    "GaussianNB | 0.879310344828 | 0.543333333333 | 0.325  | 0.38"
   ]
  },
  {
   "cell_type": "markdown",
   "metadata": {
    "collapsed": true
   },
   "source": [
    "### 参考\n",
    "* http://scikit-learn.org/stable/modules/generated/sklearn.feature_selection.RFE.html\n",
    "* http://sebastianraschka.com/Articles/2014_about_feature_scaling.html\n",
    "* https://developers.google.com/machine-learning/crash-course/classification/precision-and-recall\n",
    "* http://scikit-learn.org/stable/modules/generated/sklearn.metrics.f1_score.html\n",
    "* https://www.zhihu.com/question/27306416\n",
    "* http://blog.jobbole.com/92021/"
   ]
  }
 ],
 "metadata": {
  "kernelspec": {
   "display_name": "Python 2",
   "language": "python",
   "name": "python2"
  },
  "language_info": {
   "codemirror_mode": {
    "name": "ipython",
    "version": 2
   },
   "file_extension": ".py",
   "mimetype": "text/x-python",
   "name": "python",
   "nbconvert_exporter": "python",
   "pygments_lexer": "ipython2",
   "version": "2.7.13"
  }
 },
 "nbformat": 4,
 "nbformat_minor": 2
}
